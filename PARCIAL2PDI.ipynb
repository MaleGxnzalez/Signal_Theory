{
  "cells": [
    {
      "cell_type": "code",
      "execution_count": null,
      "metadata": {
        "id": "t7eEnlHBqQ0r"
      },
      "outputs": [],
      "source": [
        "from tensorflow import keras\n",
        "from tensorflow.keras.utils import to_categorical\n",
        "from tensorflow.keras.models import Sequential\n",
        "from tensorflow.keras.layers import Conv2D, MaxPooling2D, Flatten, Dense, Dropout, Activation\n",
        "from tensorflow.keras.datasets import cifar10\n",
        "\n",
        "#Packages from optimizing the model:\n",
        "from tensorflow.keras.preprocessing.image import ImageDataGenerator\n",
        "from tensorflow.keras.layers import BatchNormalization\n",
        "from tensorflow.keras.callbacks import ModelCheckpoint\n",
        "from tensorflow.keras import optimizers\n",
        "\n",
        "import tensorflow as tf\n",
        "from tensorflow.keras import layers, models\n",
        "from tensorflow.keras.utils import to_categorical\n",
        "\n",
        "import numpy as np\n",
        "import matplotlib.pyplot as plt\n",
        "import pandas as pd\n",
        "\n"
      ]
    },
    {
      "cell_type": "code",
      "execution_count": null,
      "metadata": {
        "id": "fR0kaX7sqm54"
      },
      "outputs": [],
      "source": [
        "(x_train, y_train), (x_test, y_test)=cifar10.load_data()"
      ]
    },
    {
      "cell_type": "code",
      "execution_count": null,
      "metadata": {
        "colab": {
          "base_uri": "https://localhost:8080/"
        },
        "id": "M_lXp0gEqqAk",
        "outputId": "6eb88dc9-5255-47fa-f69e-b3e53c425f1b"
      },
      "outputs": [
        {
          "output_type": "execute_result",
          "data": {
            "text/plain": [
              "(50000, 32, 32, 3)"
            ]
          },
          "metadata": {},
          "execution_count": 16
        }
      ],
      "source": [
        "x_train.shape"
      ]
    },
    {
      "cell_type": "code",
      "execution_count": null,
      "metadata": {
        "colab": {
          "base_uri": "https://localhost:8080/",
          "height": 447
        },
        "id": "3TbIeZvGqseq",
        "outputId": "3d3d25f3-4cf3-4836-f2a8-0170801b45e5"
      },
      "outputs": [
        {
          "output_type": "execute_result",
          "data": {
            "text/plain": [
              "<matplotlib.image.AxesImage at 0x7b17251d2770>"
            ]
          },
          "metadata": {},
          "execution_count": 17
        },
        {
          "output_type": "display_data",
          "data": {
            "text/plain": [
              "<Figure size 640x480 with 1 Axes>"
            ],
            "image/png": "[encoded data removed]"
          },
          "metadata": {}
        }
      ],
      "source": [
        "plt.imshow(x_train[49])"
      ]
    },
    {
      "cell_type": "code",
      "execution_count": null,
      "metadata": {
        "id": "n6YXLIrcsf1l"
      },
      "outputs": [],
      "source": [
        "x_train=x_train.astype(\"float32\") #Esta línea convierte el tipo de datos de las imágenes en el conjunto de entrenamiento xtrain a float32, pq las operaciones de punto flotante son mas adecuadas para la red\n",
        "x_test=x_test.astype(\"float32\")/255#convierte el tipo de datos de imagenes en el conjunto de prueba a float32, luego aplica normalizacion para que el entrenamiento sea mas eficiente quedan los pixeles entre 0 y 1"
      ]
    },
    {
      "cell_type": "code",
      "execution_count": null,
      "metadata": {
        "colab": {
          "base_uri": "https://localhost:8080/"
        },
        "id": "0rr1707MtdPs",
        "outputId": "39c78872-4a8d-4437-958e-9f1e65f56776"
      },
      "outputs": [
        {
          "output_type": "execute_result",
          "data": {
            "text/plain": [
              "10"
            ]
          },
          "metadata": {},
          "execution_count": 19
        }
      ],
      "source": [
        "len(np.unique(y_train)) #calcula el numero de clases unicas en el conjunto de datos de entrenamiento\n",
        "# ytrain tiene las etiquetas de clases para los datos\n",
        "#dice cuantas clases diferentes hay en los datos de entrenamiento"
      ]
    },
    {
      "cell_type": "code",
      "execution_count": null,
      "metadata": {
        "id": "_qVqdX8nuBqM"
      },
      "outputs": [],
      "source": [
        "#Codificación one hot en las etiquetas de clase de los conjuntos de datos de entrenamiento y prueba\n",
        "y_train=to_categorical(y_train,10)# Esta línea convierte las etiquetas de clase en el conjunto de entrenamiento (y_train) a una representación one-hot. La representación one-hot es un vector donde todos los elementos son 0, excepto uno, que es 1 y corresponde a la clase de la imagen\n",
        "y_test=to_categorical(y_test,10)#Esta línea hace lo mismo para las etiquetas de clase en el conjunto de prueba (y_test)."
      ]
    },
    {
      "cell_type": "code",
      "execution_count": null,
      "metadata": {
        "colab": {
          "base_uri": "https://localhost:8080/"
        },
        "id": "ozK892xWuzgq",
        "outputId": "07b5cdce-57a3-493b-eabf-072c11efc90a"
      },
      "outputs": [
        {
          "output_type": "execute_result",
          "data": {
            "text/plain": [
              "array([0., 1., 0., 0., 0., 0., 0., 0., 0., 0.], dtype=float32)"
            ]
          },
          "metadata": {},
          "execution_count": 21
        }
      ],
      "source": [
        "y_train[4] #se está viendo el vector one hot de la 4 clase"
      ]
    },
    {
      "cell_type": "code",
      "execution_count": null,
      "metadata": {
        "id": "qcBvVR75vJMv"
      },
      "outputs": [],
      "source": [
        "#operacion de normalizacion de los datos utilizando la media y la desviacion estandar\n",
        "mean=np.mean(x_train)#media de los valores ed los pixeles en x train\n",
        "sd=np.std(x_train)#desviacion estandar de los valores de los pixeles en x train\n",
        "\n",
        "x_train=(x_train-mean)/(sd+1e-7)# Esta línea normaliza los valores de píxeles en el conjunto de datos de entrenamiento restando la media y dividiendo por la desviación estándar. Se agrega un número muy pequeño (1e-7) al denominador para evitar la división por cero en caso de que la desviación estándar sea cero.\n",
        "x_test=(x_test-mean)/(sd+1e-7)#Esta línea hace lo mismo para el conjunto de datos de prueba (x_test), utilizando la media y la desviación estándar del conjunto de datos de entrenamiento. Es importante utilizar la misma media y desviación estándar para ambos conjuntos para que estén en la misma escala."
      ]
    },
    {
      "cell_type": "code",
      "execution_count": null,
      "metadata": {
        "colab": {
          "base_uri": "https://localhost:8080/"
        },
        "id": "-Vef46MYv3As",
        "outputId": "6ec48800-3c67-4000-dcfe-8a40b6c131e7"
      },
      "outputs": [
        {
          "output_type": "execute_result",
          "data": {
            "text/plain": [
              "((45000, 32, 32, 3), (45000, 10), (5000, 32, 32, 3), (5000, 10))"
            ]
          },
          "metadata": {},
          "execution_count": 23
        }
      ],
      "source": [
        "#está dividiendo los datos de entrenamiento en dos conjuntos: un conjunto de entrenamiento y un conjunto de validación.\n",
        "#Train_test_val_split:\n",
        "(x_train,x_valid)=x_train[5000:],x_train[:5000]#Esta línea divide el conjunto de datos de imágenes de entrenamiento (x_train) en dos. Las primeras 5000 imágenes se asignan al conjunto de validación (x_valid), y el resto de las imágenes se mantienen en el conjunto de entrenamiento (x_train).\n",
        "(y_train,y_valid)=y_train[5000:],y_train[:5000]#Esta línea hace lo mismo para las etiquetas de clase del conjunto de entrenamiento (y_train).\n",
        "#El propósito de tener un conjunto de validación es poder evaluar el rendimiento del modelo en datos que no se utilizaron durante el entrenamiento, pero que aún así son similares a los datos de entrenamiento. Esto puede ayudar a detectar problemas como el sobreajuste, donde el modelo se desempeña bien en los datos de entrenamiento pero no en los datos nuevos.\n",
        "x_train.shape, y_train.shape, x_valid.shape, y_valid.shape#x_train.shape, y_train.shape, x_valid.shape, y_valid.shape imprimirá las dimensiones de los conjuntos de datos de entrenamiento y validación, tanto para las imágenes como para las etiquetas."
      ]
    },
    {
      "cell_type": "code",
      "source": [
        "model_cifar10 = models.Sequential()\n",
        "model_cifar10.add(layers.Conv2D(32, (3, 3), activation='relu', input_shape=(32, 32, 3)))\n",
        "model_cifar10.add(layers.MaxPooling2D((2, 2)))\n",
        "model_cifar10.add(layers.Conv2D(64, (3, 3), activation='relu'))\n",
        "model_cifar10.add(layers.MaxPooling2D((2, 2)))\n",
        "model_cifar10.add(layers.Conv2D(128, (3, 3), activation='relu'))\n",
        "model_cifar10.add(layers.Flatten())\n",
        "model_cifar10.add(layers.Dense(10, activation='softmax'))"
      ],
      "metadata": {
        "id": "LHGhRPnJFv3u"
      },
      "execution_count": null,
      "outputs": []
    },
    {
      "cell_type": "code",
      "execution_count": null,
      "metadata": {
        "colab": {
          "base_uri": "https://localhost:8080/"
        },
        "id": "Sqt_p2s3yysT",
        "outputId": "d3a36b0a-04be-419b-8659-bdc866b9b236"
      },
      "outputs": [
        {
          "output_type": "stream",
          "name": "stdout",
          "text": [
            "Model: \"sequential\"\n",
            "_________________________________________________________________\n",
            " Layer (type)                Output Shape              Param #   \n",
            "=================================================================\n",
            " conv2d (Conv2D)             (None, 30, 30, 32)        896       \n",
            "                                                                 \n",
            " max_pooling2d (MaxPooling2  (None, 15, 15, 32)        0         \n",
            " D)                                                              \n",
            "                                                                 \n",
            " conv2d_1 (Conv2D)           (None, 13, 13, 64)        18496     \n",
            "                                                                 \n",
            " max_pooling2d_1 (MaxPoolin  (None, 6, 6, 64)          0         \n",
            " g2D)                                                            \n",
            "                                                                 \n",
            " conv2d_2 (Conv2D)           (None, 4, 4, 128)         73856     \n",
            "                                                                 \n",
            " flatten (Flatten)           (None, 2048)              0         \n",
            "                                                                 \n",
            " dense (Dense)               (None, 10)                20490     \n",
            "                                                                 \n",
            "=================================================================\n",
            "Total params: 113738 (444.29 KB)\n",
            "Trainable params: 113738 (444.29 KB)\n",
            "Non-trainable params: 0 (0.00 Byte)\n",
            "_________________________________________________________________\n"
          ]
        }
      ],
      "source": [
        "#arquitectura del modelo\n",
        "model_cifar10.summary()"
      ]
    },
    {
      "cell_type": "code",
      "execution_count": null,
      "metadata": {
        "id": "maiaY01nzJA0"
      },
      "outputs": [],
      "source": [
        "#configura el modelo para el entrenamiento, como se mide el rendimiento, como se actualizan los pesos y como se minimiza la perdida\n",
        "model_cifar10.compile(metrics=[\"accuracy\"],loss=\"categorical_crossentropy\",optimizer=optimizers.Adam())\n"
      ]
    },
    {
      "cell_type": "code",
      "execution_count": null,
      "metadata": {
        "id": "07SakJlkz0t7"
      },
      "outputs": [],
      "source": [
        "#crea un punto de control (checkpoint) que guarda el mejor modelo durante el entrenamiento\n",
        "checkpoint=ModelCheckpoint(\"best_model.hdf5\",verbose=1,save_best_only=True,monitor=\"val_accuracy\")\n",
        "#\"best_model.hdf5\": Este es el nombre del archivo donde se guardará el modelo.\n",
        "#verbose=1: Esto significa que se imprimirán mensajes detallados durante el entrenamiento cada vez que se guarda el modelo.\n",
        "#save_best_only=True: Esto significa que sólo se guardará el modelo si su rendimiento en el conjunto de validación es el mejor hasta ahora. Si es False, se guardaría el modelo después de cada época, independientemente de su rendimiento.\n",
        "#monitor=\"val_accuracy\": Esto especifica la métrica que se utilizará para determinar cuál es el “mejor” modelo. En este caso, se está utilizando la precisión en el conjunto de validació"
      ]
    },
    {
      "cell_type": "code",
      "source": [
        "history=model_cifar10.fit(x_train, y_train, epochs=10, batch_size=64, validation_data=(x_test, y_test))"
      ],
      "metadata": {
        "colab": {
          "base_uri": "https://localhost:8080/"
        },
        "id": "KfQoS-lyGPvu",
        "outputId": "ca7dda19-e28f-40ab-8878-7964c7d7930c"
      },
      "execution_count": null,
      "outputs": [
        {
          "output_type": "stream",
          "name": "stdout",
          "text": [
            "Epoch 1/10\n",
            "704/704 [==============================] - 69s 95ms/step - loss: 1.3989 - accuracy: 0.5004 - val_loss: 3.8696 - val_accuracy: 0.1000\n",
            "Epoch 2/10\n",
            "704/704 [==============================] - 75s 107ms/step - loss: 1.0145 - accuracy: 0.6478 - val_loss: 4.1937 - val_accuracy: 0.1000\n",
            "Epoch 3/10\n",
            "704/704 [==============================] - 71s 100ms/step - loss: 0.8568 - accuracy: 0.7040 - val_loss: 3.4805 - val_accuracy: 0.1000\n",
            "Epoch 4/10\n",
            "704/704 [==============================] - 69s 98ms/step - loss: 0.7456 - accuracy: 0.7435 - val_loss: 3.7772 - val_accuracy: 0.1000\n",
            "Epoch 5/10\n",
            "704/704 [==============================] - 67s 95ms/step - loss: 0.6628 - accuracy: 0.7718 - val_loss: 5.2225 - val_accuracy: 0.1000\n",
            "Epoch 6/10\n",
            "704/704 [==============================] - 66s 94ms/step - loss: 0.5943 - accuracy: 0.7939 - val_loss: 4.5934 - val_accuracy: 0.1000\n",
            "Epoch 7/10\n",
            "704/704 [==============================] - 67s 95ms/step - loss: 0.5208 - accuracy: 0.8201 - val_loss: 4.0115 - val_accuracy: 0.1000\n",
            "Epoch 8/10\n",
            "704/704 [==============================] - 66s 93ms/step - loss: 0.4639 - accuracy: 0.8399 - val_loss: 4.8600 - val_accuracy: 0.1000\n",
            "Epoch 9/10\n",
            "704/704 [==============================] - 65s 93ms/step - loss: 0.4078 - accuracy: 0.8584 - val_loss: 6.9307 - val_accuracy: 0.1000\n",
            "Epoch 10/10\n",
            "704/704 [==============================] - 65s 92ms/step - loss: 0.3608 - accuracy: 0.8726 - val_loss: 5.1354 - val_accuracy: 0.1000\n"
          ]
        }
      ]
    },
    {
      "cell_type": "code",
      "execution_count": null,
      "metadata": {
        "id": "JX8f0CBM0w99"
      },
      "outputs": [],
      "source": [
        "model_cifar10.load_weights(\"/content/best_model.hdf5\")"
      ]
    },
    {
      "cell_type": "code",
      "source": [
        "# Evaluar el modelo en el conjunto de prueba\n",
        "loss, accuracy = model_cifar10.evaluate(x_test, y_test)\n",
        "print(f'Precisión en el conjunto de prueba: {accuracy * 100:.2f}%')\n",
        "print(f'Pérdida en el conjunto de prueba: {loss}')"
      ],
      "metadata": {
        "colab": {
          "base_uri": "https://localhost:8080/"
        },
        "id": "97GKodxSGazz",
        "outputId": "e836cf47-38a6-46e0-fe02-ff40ac57634e"
      },
      "execution_count": null,
      "outputs": [
        {
          "output_type": "stream",
          "name": "stdout",
          "text": [
            "313/313 [==============================] - 5s 16ms/step - loss: 5.1354 - accuracy: 0.1000\n",
            "Precisión en el conjunto de prueba: 10.00%\n",
            "Pérdida en el conjunto de prueba: 5.135383129119873\n"
          ]
        }
      ]
    },
    {
      "cell_type": "code",
      "source": [
        "# Guardar el modelo\n",
        "model_cifar10.save('cifar10_cnn_model.h5')"
      ],
      "metadata": {
        "colab": {
          "base_uri": "https://localhost:8080/"
        },
        "id": "to4ZhT_YHXve",
        "outputId": "fd23a8a4-50e6-4558-a704-fc09ae3820ba"
      },
      "execution_count": null,
      "outputs": [
        {
          "output_type": "stream",
          "name": "stderr",
          "text": [
            "/usr/local/lib/python3.10/dist-packages/keras/src/engine/training.py:3079: UserWarning: You are saving your model as an HDF5 file via `model.save()`. This file format is considered legacy. We recommend using instead the native Keras format, e.g. `model.save('my_model.keras')`.\n",
            "  saving_api.save_model(\n"
          ]
        }
      ]
    },
    {
      "cell_type": "code",
      "source": [
        "\n",
        "plt.imshow(x_test[47,:,:], cmap='binary')"
      ],
      "metadata": {
        "colab": {
          "base_uri": "https://localhost:8080/",
          "height": 465
        },
        "id": "tc2zVuu8HYZL",
        "outputId": "6693e47b-f22e-4b3a-ec3b-04befd7f7743"
      },
      "execution_count": null,
      "outputs": [
        {
          "output_type": "stream",
          "name": "stderr",
          "text": [
            "WARNING:matplotlib.image:Clipping input data to the valid range for imshow with RGB data ([0..1] for floats or [0..255] for integers).\n"
          ]
        },
        {
          "output_type": "execute_result",
          "data": {
            "text/plain": [
              "<matplotlib.image.AxesImage at 0x7b1728f03790>"
            ]
          },
          "metadata": {},
          "execution_count": 34
        },
        {
          "output_type": "display_data",
          "data": {
            "text/plain": [
              "<Figure size 640x480 with 1 Axes>"
            ],
            "image/png": "[encoded data removed]"
          },
          "metadata": {}
        }
      ]
    },
    {
      "cell_type": "code",
      "source": [
        "\n",
        "pd.DataFrame(history.history).plot()\n",
        "plt.grid(True)\n"
      ],
      "metadata": {
        "colab": {
          "base_uri": "https://localhost:8080/",
          "height": 430
        },
        "id": "9Dg05wvUHqxS",
        "outputId": "b7e7f8cb-2dac-4ae0-cc0a-656cb3662c05"
      },
      "execution_count": null,
      "outputs": [
        {
          "output_type": "display_data",
          "data": {
            "text/plain": [
              "<Figure size 640x480 with 1 Axes>"
            ],
            "image/png": "[encoded data removed]"
          },
          "metadata": {}
        }
      ]
    }
  ],
  "metadata": {
    "colab": {
      "provenance": []
    },
    "kernelspec": {
      "display_name": "Python 3",
      "name": "python3"
    },
    "language_info": {
      "name": "python"
    }
  },
  "nbformat": 4,
  "nbformat_minor": 0
}